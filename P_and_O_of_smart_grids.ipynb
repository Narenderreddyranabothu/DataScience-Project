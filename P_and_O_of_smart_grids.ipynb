{
  "nbformat": 4,
  "nbformat_minor": 0,
  "metadata": {
    "colab": {
      "provenance": [],
      "authorship_tag": "ABX9TyNknM10cE5KQ8E2YedVknmF",
      "include_colab_link": true
    },
    "kernelspec": {
      "name": "python3",
      "display_name": "Python 3"
    },
    "language_info": {
      "name": "python"
    }
  },
  "cells": [
    {
      "cell_type": "markdown",
      "metadata": {
        "id": "view-in-github",
        "colab_type": "text"
      },
      "source": [
        "<a href=\"https://colab.research.google.com/github/Narenderreddyranabothu/DataScience-Project/blob/main/P_and_O_of_smart_grids.ipynb\" target=\"_parent\"><img src=\"https://colab.research.google.com/assets/colab-badge.svg\" alt=\"Open In Colab\"/></a>"
      ]
    },
    {
      "cell_type": "code",
      "execution_count": 7,
      "metadata": {
        "colab": {
          "base_uri": "https://localhost:8080/",
          "height": 73
        },
        "id": "PDmRjJ43hJy1",
        "outputId": "8e0e0f98-d495-4d89-c443-f9d126524fba"
      },
      "outputs": [
        {
          "output_type": "display_data",
          "data": {
            "text/plain": [
              "<IPython.core.display.HTML object>"
            ],
            "text/html": [
              "\n",
              "     <input type=\"file\" id=\"files-da92afc6-85e1-47e1-a600-92f3e69ebab5\" name=\"files[]\" multiple disabled\n",
              "        style=\"border:none\" />\n",
              "     <output id=\"result-da92afc6-85e1-47e1-a600-92f3e69ebab5\">\n",
              "      Upload widget is only available when the cell has been executed in the\n",
              "      current browser session. Please rerun this cell to enable.\n",
              "      </output>\n",
              "      <script>// Copyright 2017 Google LLC\n",
              "//\n",
              "// Licensed under the Apache License, Version 2.0 (the \"License\");\n",
              "// you may not use this file except in compliance with the License.\n",
              "// You may obtain a copy of the License at\n",
              "//\n",
              "//      http://www.apache.org/licenses/LICENSE-2.0\n",
              "//\n",
              "// Unless required by applicable law or agreed to in writing, software\n",
              "// distributed under the License is distributed on an \"AS IS\" BASIS,\n",
              "// WITHOUT WARRANTIES OR CONDITIONS OF ANY KIND, either express or implied.\n",
              "// See the License for the specific language governing permissions and\n",
              "// limitations under the License.\n",
              "\n",
              "/**\n",
              " * @fileoverview Helpers for google.colab Python module.\n",
              " */\n",
              "(function(scope) {\n",
              "function span(text, styleAttributes = {}) {\n",
              "  const element = document.createElement('span');\n",
              "  element.textContent = text;\n",
              "  for (const key of Object.keys(styleAttributes)) {\n",
              "    element.style[key] = styleAttributes[key];\n",
              "  }\n",
              "  return element;\n",
              "}\n",
              "\n",
              "// Max number of bytes which will be uploaded at a time.\n",
              "const MAX_PAYLOAD_SIZE = 100 * 1024;\n",
              "\n",
              "function _uploadFiles(inputId, outputId) {\n",
              "  const steps = uploadFilesStep(inputId, outputId);\n",
              "  const outputElement = document.getElementById(outputId);\n",
              "  // Cache steps on the outputElement to make it available for the next call\n",
              "  // to uploadFilesContinue from Python.\n",
              "  outputElement.steps = steps;\n",
              "\n",
              "  return _uploadFilesContinue(outputId);\n",
              "}\n",
              "\n",
              "// This is roughly an async generator (not supported in the browser yet),\n",
              "// where there are multiple asynchronous steps and the Python side is going\n",
              "// to poll for completion of each step.\n",
              "// This uses a Promise to block the python side on completion of each step,\n",
              "// then passes the result of the previous step as the input to the next step.\n",
              "function _uploadFilesContinue(outputId) {\n",
              "  const outputElement = document.getElementById(outputId);\n",
              "  const steps = outputElement.steps;\n",
              "\n",
              "  const next = steps.next(outputElement.lastPromiseValue);\n",
              "  return Promise.resolve(next.value.promise).then((value) => {\n",
              "    // Cache the last promise value to make it available to the next\n",
              "    // step of the generator.\n",
              "    outputElement.lastPromiseValue = value;\n",
              "    return next.value.response;\n",
              "  });\n",
              "}\n",
              "\n",
              "/**\n",
              " * Generator function which is called between each async step of the upload\n",
              " * process.\n",
              " * @param {string} inputId Element ID of the input file picker element.\n",
              " * @param {string} outputId Element ID of the output display.\n",
              " * @return {!Iterable<!Object>} Iterable of next steps.\n",
              " */\n",
              "function* uploadFilesStep(inputId, outputId) {\n",
              "  const inputElement = document.getElementById(inputId);\n",
              "  inputElement.disabled = false;\n",
              "\n",
              "  const outputElement = document.getElementById(outputId);\n",
              "  outputElement.innerHTML = '';\n",
              "\n",
              "  const pickedPromise = new Promise((resolve) => {\n",
              "    inputElement.addEventListener('change', (e) => {\n",
              "      resolve(e.target.files);\n",
              "    });\n",
              "  });\n",
              "\n",
              "  const cancel = document.createElement('button');\n",
              "  inputElement.parentElement.appendChild(cancel);\n",
              "  cancel.textContent = 'Cancel upload';\n",
              "  const cancelPromise = new Promise((resolve) => {\n",
              "    cancel.onclick = () => {\n",
              "      resolve(null);\n",
              "    };\n",
              "  });\n",
              "\n",
              "  // Wait for the user to pick the files.\n",
              "  const files = yield {\n",
              "    promise: Promise.race([pickedPromise, cancelPromise]),\n",
              "    response: {\n",
              "      action: 'starting',\n",
              "    }\n",
              "  };\n",
              "\n",
              "  cancel.remove();\n",
              "\n",
              "  // Disable the input element since further picks are not allowed.\n",
              "  inputElement.disabled = true;\n",
              "\n",
              "  if (!files) {\n",
              "    return {\n",
              "      response: {\n",
              "        action: 'complete',\n",
              "      }\n",
              "    };\n",
              "  }\n",
              "\n",
              "  for (const file of files) {\n",
              "    const li = document.createElement('li');\n",
              "    li.append(span(file.name, {fontWeight: 'bold'}));\n",
              "    li.append(span(\n",
              "        `(${file.type || 'n/a'}) - ${file.size} bytes, ` +\n",
              "        `last modified: ${\n",
              "            file.lastModifiedDate ? file.lastModifiedDate.toLocaleDateString() :\n",
              "                                    'n/a'} - `));\n",
              "    const percent = span('0% done');\n",
              "    li.appendChild(percent);\n",
              "\n",
              "    outputElement.appendChild(li);\n",
              "\n",
              "    const fileDataPromise = new Promise((resolve) => {\n",
              "      const reader = new FileReader();\n",
              "      reader.onload = (e) => {\n",
              "        resolve(e.target.result);\n",
              "      };\n",
              "      reader.readAsArrayBuffer(file);\n",
              "    });\n",
              "    // Wait for the data to be ready.\n",
              "    let fileData = yield {\n",
              "      promise: fileDataPromise,\n",
              "      response: {\n",
              "        action: 'continue',\n",
              "      }\n",
              "    };\n",
              "\n",
              "    // Use a chunked sending to avoid message size limits. See b/62115660.\n",
              "    let position = 0;\n",
              "    do {\n",
              "      const length = Math.min(fileData.byteLength - position, MAX_PAYLOAD_SIZE);\n",
              "      const chunk = new Uint8Array(fileData, position, length);\n",
              "      position += length;\n",
              "\n",
              "      const base64 = btoa(String.fromCharCode.apply(null, chunk));\n",
              "      yield {\n",
              "        response: {\n",
              "          action: 'append',\n",
              "          file: file.name,\n",
              "          data: base64,\n",
              "        },\n",
              "      };\n",
              "\n",
              "      let percentDone = fileData.byteLength === 0 ?\n",
              "          100 :\n",
              "          Math.round((position / fileData.byteLength) * 100);\n",
              "      percent.textContent = `${percentDone}% done`;\n",
              "\n",
              "    } while (position < fileData.byteLength);\n",
              "  }\n",
              "\n",
              "  // All done.\n",
              "  yield {\n",
              "    response: {\n",
              "      action: 'complete',\n",
              "    }\n",
              "  };\n",
              "}\n",
              "\n",
              "scope.google = scope.google || {};\n",
              "scope.google.colab = scope.google.colab || {};\n",
              "scope.google.colab._files = {\n",
              "  _uploadFiles,\n",
              "  _uploadFilesContinue,\n",
              "};\n",
              "})(self);\n",
              "</script> "
            ]
          },
          "metadata": {}
        },
        {
          "output_type": "stream",
          "name": "stdout",
          "text": [
            "Saving household_power_consumption.txt to household_power_consumption (1).txt\n"
          ]
        }
      ],
      "source": [
        "from google.colab import files\n",
        "\n",
        "# This will open a file picker dialog\n",
        "uploaded = files.upload()"
      ]
    },
    {
      "cell_type": "code",
      "source": [
        "# Importing necessary libraries\n",
        "import pandas as pd  # For data handling\n",
        "import numpy as np  # For numerical operations\n",
        "import matplotlib.pyplot as plt  # For plotting graphs\n",
        "import seaborn as sns  # For prettier graphs\n",
        "from sklearn.model_selection import train_test_split  # For splitting data\n",
        "from sklearn.ensemble import RandomForestRegressor  # For building a prediction model\n",
        "from sklearn.metrics import mean_squared_error, mean_absolute_error  # For evaluating the model\n",
        "from datetime import datetime  # For handling dates\n",
        "from sklearn.preprocessing import StandardScaler  # For scaling data\n",
        "import statsmodels.api as sm  # For statistical analysis (optional)\n"
      ],
      "metadata": {
        "id": "1ggta559_pvw"
      },
      "execution_count": 8,
      "outputs": []
    },
    {
      "cell_type": "code",
      "source": [
        "# Load the dataset\n",
        "df = pd.read_csv('household_power_consumption.txt', sep=';', low_memory=False)\n",
        "\n",
        "# Check all column names to ensure 'Date' column exists and its exact name\n",
        "print(\"Column names in the dataset:\")\n",
        "print(df.columns)\n",
        "\n",
        "# Clean column names (remove leading/trailing spaces or unexpected characters)\n",
        "df.columns = df.columns.str.strip()\n",
        "\n",
        "# Check again if the 'Date' column exists\n",
        "if 'Date' in df.columns:\n",
        "    print(\"Initial DataFrame (First few rows):\")\n",
        "    print(df.head())\n",
        "else:\n",
        "    print(\"'Date' column is missing or named differently. Please verify the column name.\")\n",
        "\n",
        "# Preprocessing steps\n",
        "# Convert 'Date' and 'Time' columns to datetime format\n",
        "df['Datetime'] = pd.to_datetime(df['Date'] + ' ' + df['Time'], format='%d/%m/%Y %H:%M:%S')\n",
        "df.drop(['Date', 'Time'], axis=1, inplace=True)\n",
        "\n",
        "# Handle missing values (replace '?' with NaN, then fill with median)\n",
        "df.replace('?', np.nan, inplace=True)\n",
        "df = df.apply(pd.to_numeric, errors='coerce')\n",
        "df.fillna(df.median(), inplace=True)\n",
        "\n",
        "# Feature engineering (creating lag features)\n",
        "df['Global_active_power_lag1'] = df['Global_active_power'].shift(1)\n",
        "df['Global_active_power_lag24'] = df['Global_active_power'].shift(24)\n",
        "\n",
        "# Drop rows with NaN values due to the lag\n",
        "df = df.dropna()\n",
        "\n",
        "# Define features (X) and target variable (y)\n",
        "X = df[['Global_active_power_lag1', 'Global_active_power_lag24']]\n",
        "y = df['Global_active_power']\n",
        "\n",
        "# Split the data into training and testing sets (80% for training, 20% for testing)\n",
        "X_train, X_test, y_train, y_test = train_test_split(X, y, test_size=0.2, random_state=42)\n",
        "\n",
        "# Scale the data (important for models like ANN, SVM, k-NN)\n",
        "scaler = StandardScaler()\n",
        "X_train_scaled = scaler.fit_transform(X_train)\n",
        "X_test_scaled = scaler.transform(X_test)"
      ],
      "metadata": {
        "colab": {
          "base_uri": "https://localhost:8080/"
        },
        "id": "VEAcbSuVeqMh",
        "outputId": "f7bb983c-283d-4947-d11b-521bad57a1be"
      },
      "execution_count": 9,
      "outputs": [
        {
          "output_type": "stream",
          "name": "stdout",
          "text": [
            "Column names in the dataset:\n",
            "Index(['Date', 'Time', 'Global_active_power', 'Global_reactive_power',\n",
            "       'Voltage', 'Global_intensity', 'Sub_metering_1', 'Sub_metering_2',\n",
            "       'Sub_metering_3'],\n",
            "      dtype='object')\n",
            "Initial DataFrame (First few rows):\n",
            "         Date      Time Global_active_power Global_reactive_power  Voltage  \\\n",
            "0  16/12/2006  17:24:00               4.216                 0.418  234.840   \n",
            "1  16/12/2006  17:25:00               5.360                 0.436  233.630   \n",
            "2  16/12/2006  17:26:00               5.374                 0.498  233.290   \n",
            "3  16/12/2006  17:27:00               5.388                 0.502  233.740   \n",
            "4  16/12/2006  17:28:00               3.666                 0.528  235.680   \n",
            "\n",
            "  Global_intensity Sub_metering_1 Sub_metering_2  Sub_metering_3  \n",
            "0           18.400          0.000          1.000            17.0  \n",
            "1           23.000          0.000          1.000            16.0  \n",
            "2           23.000          0.000          2.000            17.0  \n",
            "3           23.000          0.000          1.000            17.0  \n",
            "4           15.800          0.000          1.000            17.0  \n"
          ]
        }
      ]
    },
    {
      "cell_type": "code",
      "source": [
        "from sklearn.linear_model import LinearRegression\n",
        "from sklearn.metrics import mean_squared_error\n",
        "\n",
        "# --- Linear Regression Model\n",
        "lr_model = LinearRegression()\n",
        "lr_model.fit(X_train_scaled, y_train)  # Train the model\n",
        "\n",
        "# Predict the energy consumption for the test set\n",
        "y_pred_lr = lr_model.predict(X_test_scaled)\n",
        "\n",
        "# Evaluate the model's performance (Mean Squared Error)\n",
        "mse_lr = mean_squared_error(y_test, y_pred_lr)\n",
        "rmse_lr = np.sqrt(mse_lr)\n",
        "print(f\"Linear Regression - Mean Squared Error: {mse_lr}\")\n",
        "print(f\"Linear Regression - Root Mean Squared Error: {rmse_lr}\")\n",
        "\n"
      ],
      "metadata": {
        "colab": {
          "base_uri": "https://localhost:8080/"
        },
        "id": "WPJ3Q_I8j0aF",
        "outputId": "9cd98e43-1889-4da2-aa2b-89e8d5074462"
      },
      "execution_count": 10,
      "outputs": [
        {
          "output_type": "stream",
          "name": "stdout",
          "text": [
            "Linear Regression - Mean Squared Error: 0.0684663620577772\n",
            "Linear Regression - Root Mean Squared Error: 0.2616607766895474\n"
          ]
        }
      ]
    },
    {
      "cell_type": "code",
      "source": [
        "# Train a Random Forest model\n",
        "model = RandomForestRegressor(n_estimators=100, random_state=42)\n",
        "model.fit(X_train, y_train)\n",
        "\n",
        "# Predict on the test set\n",
        "y_pred = model.predict(X_test)\n",
        "\n",
        "# Evaluate the model's performance\n",
        "mse = mean_squared_error(y_test, y_pred)\n",
        "rmse = np.sqrt(mse)\n",
        "\n",
        "# Display the results\n",
        "print(f\"Mean Squared Error: {mse}\")\n",
        "print(f\"Root Mean Squared Error: {rmse}\")\n",
        "\n"
      ],
      "metadata": {
        "colab": {
          "base_uri": "https://localhost:8080/"
        },
        "id": "oA5pleUvlH_6",
        "outputId": "fa83473b-3342-4dd2-bea0-4a9243cfae61"
      },
      "execution_count": 12,
      "outputs": [
        {
          "output_type": "stream",
          "name": "stdout",
          "text": [
            "Mean Squared Error: 0.085398155956727\n",
            "Root Mean Squared Error: 0.2922296288139295\n"
          ]
        }
      ]
    },
    {
      "cell_type": "code",
      "source": [
        "from sklearn.neural_network import MLPRegressor\n",
        "# --- Artificial Neural Network (ANN) ---\n",
        "ann_model = MLPRegressor(hidden_layer_sizes=(100,), max_iter=1000, random_state=42)\n",
        "ann_model.fit(X_train_scaled, y_train)\n",
        "y_pred_ann = ann_model.predict(X_test_scaled)\n",
        "mse_ann = mean_squared_error(y_test, y_pred_ann)\n",
        "rmse_ann = np.sqrt(mse_ann)\n",
        "\n",
        "print(f\"ANN Model - MSE: {mse_ann}, RMSE: {rmse_ann}\")\n",
        "\n",
        "import matplotlib.pyplot as plt\n",
        "\n"
      ],
      "metadata": {
        "id": "CcMQQI_Ok3-D",
        "colab": {
          "base_uri": "https://localhost:8080/"
        },
        "outputId": "06a67706-b015-4d2e-c619-5e00fc083a98"
      },
      "execution_count": 13,
      "outputs": [
        {
          "output_type": "stream",
          "name": "stdout",
          "text": [
            "ANN Model - MSE: 0.06801800442986153, RMSE: 0.26080261584167735\n"
          ]
        }
      ]
    },
    {
      "cell_type": "code",
      "source": [
        "# Importing necessary libraries for Gradient Boosting and XGBoost\n",
        "from sklearn.ensemble import GradientBoostingRegressor\n",
        "import xgboost as xgb\n",
        "\n",
        "# --- Gradient Boosting Model ---\n",
        "gb_model = GradientBoostingRegressor(n_estimators=100, random_state=42)\n",
        "gb_model.fit(X_train_scaled, y_train)\n",
        "y_pred_gb = gb_model.predict(X_test_scaled)\n",
        "mse_gb = mean_squared_error(y_test, y_pred_gb)\n",
        "rmse_gb = np.sqrt(mse_gb)\n",
        "\n",
        "print(f\"Gradient Boosting Model - MSE: {mse_gb}, RMSE: {rmse_gb}\")\n",
        "\n"
      ],
      "metadata": {
        "id": "I2e8-cFQk-Du",
        "colab": {
          "base_uri": "https://localhost:8080/"
        },
        "outputId": "d6524b02-fdf6-4af7-92f8-d53a62a7601a"
      },
      "execution_count": 14,
      "outputs": [
        {
          "output_type": "stream",
          "name": "stdout",
          "text": [
            "Gradient Boosting Model - MSE: 0.06787469400230908, RMSE: 0.26052772213779685\n"
          ]
        }
      ]
    },
    {
      "cell_type": "code",
      "source": [
        "# Compare all model performances\n",
        "models = ['Linear Regression', 'Random Forest', 'ANN', 'Gradient Boosting']\n",
        "rmse_values = [rmse_lr, rmse, rmse_ann, rmse_gb]\n",
        "\n",
        "plt.figure(figsize=(8,5))\n",
        "sns.barplot(x=models, y=rmse_values, palette='viridis')\n",
        "plt.title('Comparison of Models - RMSE Values')\n",
        "plt.ylabel('Root Mean Squared Error (RMSE)')\n",
        "plt.xticks(rotation=45)\n",
        "plt.show()\n"
      ],
      "metadata": {
        "id": "225Ni9APdTNf",
        "outputId": "597b8e16-7b0d-4284-9f44-b01118307368",
        "colab": {
          "base_uri": "https://localhost:8080/",
          "height": 639
        }
      },
      "execution_count": 15,
      "outputs": [
        {
          "output_type": "stream",
          "name": "stderr",
          "text": [
            "<ipython-input-15-2037649441>:6: FutureWarning: \n",
            "\n",
            "Passing `palette` without assigning `hue` is deprecated and will be removed in v0.14.0. Assign the `x` variable to `hue` and set `legend=False` for the same effect.\n",
            "\n",
            "  sns.barplot(x=models, y=rmse_values, palette='viridis')\n"
          ]
        },
        {
          "output_type": "display_data",
          "data": {
            "text/plain": [
              "<Figure size 800x500 with 1 Axes>"
            ],
            "image/png": "[encoded data removed]"
          },
          "metadata": {}
        }
      ]
    }
  ]
}